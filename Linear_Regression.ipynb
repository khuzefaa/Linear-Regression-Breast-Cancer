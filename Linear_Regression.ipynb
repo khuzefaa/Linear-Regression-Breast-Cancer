{
  "cells": [
    {
      "cell_type": "code",
      "source": [
        "import numpy as np\n",
        "import pandas as pd\n",
        "import matplotlib.pyplot as plt\n",
        "import seaborn as sns\n",
        "\n",
        "from sklearn.linear_model import LinearRegression\n",
        "from sklearn.metrics import mean_squared_error"
      ],
      "metadata": {
        "id": "evmVz-BeLIrq"
      },
      "id": "evmVz-BeLIrq",
      "execution_count": null,
      "outputs": []
    },
    {
      "cell_type": "markdown",
      "id": "532d4d5e",
      "metadata": {
        "id": "532d4d5e"
      },
      "source": [
        "# Single Linear Regression"
      ]
    },
    {
      "cell_type": "markdown",
      "source": [
        "\n",
        "- Conceptual understanding\n",
        "- Mathematical formulation\n",
        "- Manual implementation in Python (from scratch)\n",
        "- Using `sklearn` for Linear Regression\n",
        "- Visualization and evaluation of the results\n",
        "\n",
        "We'll use a small synthetic dataset for maximum clarity and understanding.\n"
      ],
      "metadata": {
        "id": "VGKtfGLpSO60"
      },
      "id": "VGKtfGLpSO60"
    },
    {
      "cell_type": "markdown",
      "id": "d006ac92",
      "metadata": {
        "id": "d006ac92"
      },
      "source": [
        "\n",
        "## What is Linear Regression?\n",
        "Linear Regression is a **supervised learning algorithm** used for **predicting a continuous output** based on one or more input features.\n",
        "\n",
        "- When there's **one input variable**, it's called **Simple Linear Regression**.\n",
        "- When there are **multiple input variables**, it's called **Multiple Linear Regression**.\n",
        "\n",
        "The goal is to fit a line (or hyperplane) that minimizes the error between actual and predicted values.\n"
      ]
    },
    {
      "cell_type": "markdown",
      "id": "42e579e0",
      "metadata": {
        "id": "42e579e0"
      },
      "source": [
        "## Mathematical Formulation\n"
      ]
    },
    {
      "cell_type": "markdown",
      "source": [
        "\n",
        "For **Simple Linear Regression** with one feature `x` and target `y`, the model is:\n",
        "\n",
        "\n",
        "$$\n",
        "y = wx + b\n",
        "$$\n",
        "\n",
        "Where:\n",
        "- $x$ : Input feature  \n",
        "- $y$ : Target output  \n",
        "- $w$ : Weight (slope)  \n",
        "- $b$ : Bias (intercept)\n",
        "\n",
        "We aim to learn parameters $w$ and $b$ that minimize prediction error.\n",
        "\n",
        "The **loss function** (Mean Squared Error):\n",
        "\n",
        "$$\n",
        "J(w, b) = \\frac{1}{n} \\sum_{i=1}^{n} (y_i - (w x_i + b))^2\n",
        "$$\n",
        "\n",
        "And use the true underlying function:\n",
        "\n",
        "$$\n",
        "y = 3x + 4 + \\text{noise}\n",
        "$$\n",
        "\n",
        "This will help us test if our model can correctly recover the coefficients.\n"
      ],
      "metadata": {
        "id": "8HtPMVBZSCvu"
      },
      "id": "8HtPMVBZSCvu"
    },
    {
      "cell_type": "code",
      "source": [
        "# Generate synthetic data\n",
        "np.random.seed(42)\n",
        "X = 2 * np.random.rand(100, 1)\n",
        "y = 3 * X + 4 + np.random.randn(100, 1)"
      ],
      "metadata": {
        "id": "rUUPgGqIN798"
      },
      "id": "rUUPgGqIN798",
      "execution_count": null,
      "outputs": []
    },
    {
      "cell_type": "code",
      "source": [
        "# Convert to DataFrame\n",
        "data = pd.DataFrame({'X': X.flatten(), 'y': y.flatten()})\n",
        "data"
      ],
      "metadata": {
        "colab": {
          "base_uri": "https://localhost:8080/",
          "height": 424
        },
        "id": "AdDv0PK5N-fk",
        "outputId": "41412078-afdd-400c-ca82-2b1ab1073fc8"
      },
      "id": "AdDv0PK5N-fk",
      "execution_count": null,
      "outputs": [
        {
          "output_type": "execute_result",
          "data": {
            "text/plain": [
              "           X         y\n",
              "0   0.749080  6.334288\n",
              "1   1.901429  9.405278\n",
              "2   1.463988  8.483724\n",
              "3   1.197317  5.604382\n",
              "4   0.312037  4.716440\n",
              "..       ...       ...\n",
              "95  0.987591  6.146963\n",
              "96  1.045466  7.059295\n",
              "97  0.855082  6.906398\n",
              "98  0.050838  4.429206\n",
              "99  0.215783  5.474532\n",
              "\n",
              "[100 rows x 2 columns]"
            ],
            "text/html": [
              "\n",
              "  <div id=\"df-1790eb1b-5665-4286-a7b2-b6e7c052d923\" class=\"colab-df-container\">\n",
              "    <div>\n",
              "<style scoped>\n",
              "    .dataframe tbody tr th:only-of-type {\n",
              "        vertical-align: middle;\n",
              "    }\n",
              "\n",
              "    .dataframe tbody tr th {\n",
              "        vertical-align: top;\n",
              "    }\n",
              "\n",
              "    .dataframe thead th {\n",
              "        text-align: right;\n",
              "    }\n",
              "</style>\n",
              "<table border=\"1\" class=\"dataframe\">\n",
              "  <thead>\n",
              "    <tr style=\"text-align: right;\">\n",
              "      <th></th>\n",
              "      <th>X</th>\n",
              "      <th>y</th>\n",
              "    </tr>\n",
              "  </thead>\n",
              "  <tbody>\n",
              "    <tr>\n",
              "      <th>0</th>\n",
              "      <td>0.749080</td>\n",
              "      <td>6.334288</td>\n",
              "    </tr>\n",
              "    <tr>\n",
              "      <th>1</th>\n",
              "      <td>1.901429</td>\n",
              "      <td>9.405278</td>\n",
              "    </tr>\n",
              "    <tr>\n",
              "      <th>2</th>\n",
              "      <td>1.463988</td>\n",
              "      <td>8.483724</td>\n",
              "    </tr>\n",
              "    <tr>\n",
              "      <th>3</th>\n",
              "      <td>1.197317</td>\n",
              "      <td>5.604382</td>\n",
              "    </tr>\n",
              "    <tr>\n",
              "      <th>4</th>\n",
              "      <td>0.312037</td>\n",
              "      <td>4.716440</td>\n",
              "    </tr>\n",
              "    <tr>\n",
              "      <th>...</th>\n",
              "      <td>...</td>\n",
              "      <td>...</td>\n",
              "    </tr>\n",
              "    <tr>\n",
              "      <th>95</th>\n",
              "      <td>0.987591</td>\n",
              "      <td>6.146963</td>\n",
              "    </tr>\n",
              "    <tr>\n",
              "      <th>96</th>\n",
              "      <td>1.045466</td>\n",
              "      <td>7.059295</td>\n",
              "    </tr>\n",
              "    <tr>\n",
              "      <th>97</th>\n",
              "      <td>0.855082</td>\n",
              "      <td>6.906398</td>\n",
              "    </tr>\n",
              "    <tr>\n",
              "      <th>98</th>\n",
              "      <td>0.050838</td>\n",
              "      <td>4.429206</td>\n",
              "    </tr>\n",
              "    <tr>\n",
              "      <th>99</th>\n",
              "      <td>0.215783</td>\n",
              "      <td>5.474532</td>\n",
              "    </tr>\n",
              "  </tbody>\n",
              "</table>\n",
              "<p>100 rows × 2 columns</p>\n",
              "</div>\n",
              "    <div class=\"colab-df-buttons\">\n",
              "\n",
              "  <div class=\"colab-df-container\">\n",
              "    <button class=\"colab-df-convert\" onclick=\"convertToInteractive('df-1790eb1b-5665-4286-a7b2-b6e7c052d923')\"\n",
              "            title=\"Convert this dataframe to an interactive table.\"\n",
              "            style=\"display:none;\">\n",
              "\n",
              "  <svg xmlns=\"http://www.w3.org/2000/svg\" height=\"24px\" viewBox=\"0 -960 960 960\">\n",
              "    <path d=\"M120-120v-720h720v720H120Zm60-500h600v-160H180v160Zm220 220h160v-160H400v160Zm0 220h160v-160H400v160ZM180-400h160v-160H180v160Zm440 0h160v-160H620v160ZM180-180h160v-160H180v160Zm440 0h160v-160H620v160Z\"/>\n",
              "  </svg>\n",
              "    </button>\n",
              "\n",
              "  <style>\n",
              "    .colab-df-container {\n",
              "      display:flex;\n",
              "      gap: 12px;\n",
              "    }\n",
              "\n",
              "    .colab-df-convert {\n",
              "      background-color: #E8F0FE;\n",
              "      border: none;\n",
              "      border-radius: 50%;\n",
              "      cursor: pointer;\n",
              "      display: none;\n",
              "      fill: #1967D2;\n",
              "      height: 32px;\n",
              "      padding: 0 0 0 0;\n",
              "      width: 32px;\n",
              "    }\n",
              "\n",
              "    .colab-df-convert:hover {\n",
              "      background-color: #E2EBFA;\n",
              "      box-shadow: 0px 1px 2px rgba(60, 64, 67, 0.3), 0px 1px 3px 1px rgba(60, 64, 67, 0.15);\n",
              "      fill: #174EA6;\n",
              "    }\n",
              "\n",
              "    .colab-df-buttons div {\n",
              "      margin-bottom: 4px;\n",
              "    }\n",
              "\n",
              "    [theme=dark] .colab-df-convert {\n",
              "      background-color: #3B4455;\n",
              "      fill: #D2E3FC;\n",
              "    }\n",
              "\n",
              "    [theme=dark] .colab-df-convert:hover {\n",
              "      background-color: #434B5C;\n",
              "      box-shadow: 0px 1px 3px 1px rgba(0, 0, 0, 0.15);\n",
              "      filter: drop-shadow(0px 1px 2px rgba(0, 0, 0, 0.3));\n",
              "      fill: #FFFFFF;\n",
              "    }\n",
              "  </style>\n",
              "\n",
              "    <script>\n",
              "      const buttonEl =\n",
              "        document.querySelector('#df-1790eb1b-5665-4286-a7b2-b6e7c052d923 button.colab-df-convert');\n",
              "      buttonEl.style.display =\n",
              "        google.colab.kernel.accessAllowed ? 'block' : 'none';\n",
              "\n",
              "      async function convertToInteractive(key) {\n",
              "        const element = document.querySelector('#df-1790eb1b-5665-4286-a7b2-b6e7c052d923');\n",
              "        const dataTable =\n",
              "          await google.colab.kernel.invokeFunction('convertToInteractive',\n",
              "                                                    [key], {});\n",
              "        if (!dataTable) return;\n",
              "\n",
              "        const docLinkHtml = 'Like what you see? Visit the ' +\n",
              "          '<a target=\"_blank\" href=https://colab.research.google.com/notebooks/data_table.ipynb>data table notebook</a>'\n",
              "          + ' to learn more about interactive tables.';\n",
              "        element.innerHTML = '';\n",
              "        dataTable['output_type'] = 'display_data';\n",
              "        await google.colab.output.renderOutput(dataTable, element);\n",
              "        const docLink = document.createElement('div');\n",
              "        docLink.innerHTML = docLinkHtml;\n",
              "        element.appendChild(docLink);\n",
              "      }\n",
              "    </script>\n",
              "  </div>\n",
              "\n",
              "\n",
              "    <div id=\"df-c1a49f66-b40a-43ff-b038-c1c5b47a1871\">\n",
              "      <button class=\"colab-df-quickchart\" onclick=\"quickchart('df-c1a49f66-b40a-43ff-b038-c1c5b47a1871')\"\n",
              "                title=\"Suggest charts\"\n",
              "                style=\"display:none;\">\n",
              "\n",
              "<svg xmlns=\"http://www.w3.org/2000/svg\" height=\"24px\"viewBox=\"0 0 24 24\"\n",
              "     width=\"24px\">\n",
              "    <g>\n",
              "        <path d=\"M19 3H5c-1.1 0-2 .9-2 2v14c0 1.1.9 2 2 2h14c1.1 0 2-.9 2-2V5c0-1.1-.9-2-2-2zM9 17H7v-7h2v7zm4 0h-2V7h2v10zm4 0h-2v-4h2v4z\"/>\n",
              "    </g>\n",
              "</svg>\n",
              "      </button>\n",
              "\n",
              "<style>\n",
              "  .colab-df-quickchart {\n",
              "      --bg-color: #E8F0FE;\n",
              "      --fill-color: #1967D2;\n",
              "      --hover-bg-color: #E2EBFA;\n",
              "      --hover-fill-color: #174EA6;\n",
              "      --disabled-fill-color: #AAA;\n",
              "      --disabled-bg-color: #DDD;\n",
              "  }\n",
              "\n",
              "  [theme=dark] .colab-df-quickchart {\n",
              "      --bg-color: #3B4455;\n",
              "      --fill-color: #D2E3FC;\n",
              "      --hover-bg-color: #434B5C;\n",
              "      --hover-fill-color: #FFFFFF;\n",
              "      --disabled-bg-color: #3B4455;\n",
              "      --disabled-fill-color: #666;\n",
              "  }\n",
              "\n",
              "  .colab-df-quickchart {\n",
              "    background-color: var(--bg-color);\n",
              "    border: none;\n",
              "    border-radius: 50%;\n",
              "    cursor: pointer;\n",
              "    display: none;\n",
              "    fill: var(--fill-color);\n",
              "    height: 32px;\n",
              "    padding: 0;\n",
              "    width: 32px;\n",
              "  }\n",
              "\n",
              "  .colab-df-quickchart:hover {\n",
              "    background-color: var(--hover-bg-color);\n",
              "    box-shadow: 0 1px 2px rgba(60, 64, 67, 0.3), 0 1px 3px 1px rgba(60, 64, 67, 0.15);\n",
              "    fill: var(--button-hover-fill-color);\n",
              "  }\n",
              "\n",
              "  .colab-df-quickchart-complete:disabled,\n",
              "  .colab-df-quickchart-complete:disabled:hover {\n",
              "    background-color: var(--disabled-bg-color);\n",
              "    fill: var(--disabled-fill-color);\n",
              "    box-shadow: none;\n",
              "  }\n",
              "\n",
              "  .colab-df-spinner {\n",
              "    border: 2px solid var(--fill-color);\n",
              "    border-color: transparent;\n",
              "    border-bottom-color: var(--fill-color);\n",
              "    animation:\n",
              "      spin 1s steps(1) infinite;\n",
              "  }\n",
              "\n",
              "  @keyframes spin {\n",
              "    0% {\n",
              "      border-color: transparent;\n",
              "      border-bottom-color: var(--fill-color);\n",
              "      border-left-color: var(--fill-color);\n",
              "    }\n",
              "    20% {\n",
              "      border-color: transparent;\n",
              "      border-left-color: var(--fill-color);\n",
              "      border-top-color: var(--fill-color);\n",
              "    }\n",
              "    30% {\n",
              "      border-color: transparent;\n",
              "      border-left-color: var(--fill-color);\n",
              "      border-top-color: var(--fill-color);\n",
              "      border-right-color: var(--fill-color);\n",
              "    }\n",
              "    40% {\n",
              "      border-color: transparent;\n",
              "      border-right-color: var(--fill-color);\n",
              "      border-top-color: var(--fill-color);\n",
              "    }\n",
              "    60% {\n",
              "      border-color: transparent;\n",
              "      border-right-color: var(--fill-color);\n",
              "    }\n",
              "    80% {\n",
              "      border-color: transparent;\n",
              "      border-right-color: var(--fill-color);\n",
              "      border-bottom-color: var(--fill-color);\n",
              "    }\n",
              "    90% {\n",
              "      border-color: transparent;\n",
              "      border-bottom-color: var(--fill-color);\n",
              "    }\n",
              "  }\n",
              "</style>\n",
              "\n",
              "      <script>\n",
              "        async function quickchart(key) {\n",
              "          const quickchartButtonEl =\n",
              "            document.querySelector('#' + key + ' button');\n",
              "          quickchartButtonEl.disabled = true;  // To prevent multiple clicks.\n",
              "          quickchartButtonEl.classList.add('colab-df-spinner');\n",
              "          try {\n",
              "            const charts = await google.colab.kernel.invokeFunction(\n",
              "                'suggestCharts', [key], {});\n",
              "          } catch (error) {\n",
              "            console.error('Error during call to suggestCharts:', error);\n",
              "          }\n",
              "          quickchartButtonEl.classList.remove('colab-df-spinner');\n",
              "          quickchartButtonEl.classList.add('colab-df-quickchart-complete');\n",
              "        }\n",
              "        (() => {\n",
              "          let quickchartButtonEl =\n",
              "            document.querySelector('#df-c1a49f66-b40a-43ff-b038-c1c5b47a1871 button');\n",
              "          quickchartButtonEl.style.display =\n",
              "            google.colab.kernel.accessAllowed ? 'block' : 'none';\n",
              "        })();\n",
              "      </script>\n",
              "    </div>\n",
              "\n",
              "  <div id=\"id_f3ae191b-9771-4fda-b076-80422cf95ccf\">\n",
              "    <style>\n",
              "      .colab-df-generate {\n",
              "        background-color: #E8F0FE;\n",
              "        border: none;\n",
              "        border-radius: 50%;\n",
              "        cursor: pointer;\n",
              "        display: none;\n",
              "        fill: #1967D2;\n",
              "        height: 32px;\n",
              "        padding: 0 0 0 0;\n",
              "        width: 32px;\n",
              "      }\n",
              "\n",
              "      .colab-df-generate:hover {\n",
              "        background-color: #E2EBFA;\n",
              "        box-shadow: 0px 1px 2px rgba(60, 64, 67, 0.3), 0px 1px 3px 1px rgba(60, 64, 67, 0.15);\n",
              "        fill: #174EA6;\n",
              "      }\n",
              "\n",
              "      [theme=dark] .colab-df-generate {\n",
              "        background-color: #3B4455;\n",
              "        fill: #D2E3FC;\n",
              "      }\n",
              "\n",
              "      [theme=dark] .colab-df-generate:hover {\n",
              "        background-color: #434B5C;\n",
              "        box-shadow: 0px 1px 3px 1px rgba(0, 0, 0, 0.15);\n",
              "        filter: drop-shadow(0px 1px 2px rgba(0, 0, 0, 0.3));\n",
              "        fill: #FFFFFF;\n",
              "      }\n",
              "    </style>\n",
              "    <button class=\"colab-df-generate\" onclick=\"generateWithVariable('data')\"\n",
              "            title=\"Generate code using this dataframe.\"\n",
              "            style=\"display:none;\">\n",
              "\n",
              "  <svg xmlns=\"http://www.w3.org/2000/svg\" height=\"24px\"viewBox=\"0 0 24 24\"\n",
              "       width=\"24px\">\n",
              "    <path d=\"M7,19H8.4L18.45,9,17,7.55,7,17.6ZM5,21V16.75L18.45,3.32a2,2,0,0,1,2.83,0l1.4,1.43a1.91,1.91,0,0,1,.58,1.4,1.91,1.91,0,0,1-.58,1.4L9.25,21ZM18.45,9,17,7.55Zm-12,3A5.31,5.31,0,0,0,4.9,8.1,5.31,5.31,0,0,0,1,6.5,5.31,5.31,0,0,0,4.9,4.9,5.31,5.31,0,0,0,6.5,1,5.31,5.31,0,0,0,8.1,4.9,5.31,5.31,0,0,0,12,6.5,5.46,5.46,0,0,0,6.5,12Z\"/>\n",
              "  </svg>\n",
              "    </button>\n",
              "    <script>\n",
              "      (() => {\n",
              "      const buttonEl =\n",
              "        document.querySelector('#id_f3ae191b-9771-4fda-b076-80422cf95ccf button.colab-df-generate');\n",
              "      buttonEl.style.display =\n",
              "        google.colab.kernel.accessAllowed ? 'block' : 'none';\n",
              "\n",
              "      buttonEl.onclick = () => {\n",
              "        google.colab.notebook.generateWithVariable('data');\n",
              "      }\n",
              "      })();\n",
              "    </script>\n",
              "  </div>\n",
              "\n",
              "    </div>\n",
              "  </div>\n"
            ],
            "application/vnd.google.colaboratory.intrinsic+json": {
              "type": "dataframe",
              "variable_name": "data",
              "summary": "{\n  \"name\": \"data\",\n  \"rows\": 100,\n  \"fields\": [\n    {\n      \"column\": \"X\",\n      \"properties\": {\n        \"dtype\": \"number\",\n        \"std\": 0.5949788220306385,\n        \"min\": 0.011044234247204798,\n        \"max\": 1.9737738732010346,\n        \"num_unique_values\": 100,\n        \"samples\": [\n          0.12711670057204727,\n          1.7896547008552977,\n          1.5444895385933148\n        ],\n        \"semantic_type\": \"\",\n        \"description\": \"\"\n      }\n    },\n    {\n      \"column\": \"y\",\n      \"properties\": {\n        \"dtype\": \"number\",\n        \"std\": 1.8791379170629918,\n        \"min\": 3.2380621152873488,\n        \"max\": 11.044395066398318,\n        \"num_unique_values\": 100,\n        \"samples\": [\n          5.037903710349971,\n          8.865488448449694,\n          7.396517904901863\n        ],\n        \"semantic_type\": \"\",\n        \"description\": \"\"\n      }\n    }\n  ]\n}"
            }
          },
          "metadata": {},
          "execution_count": 4
        }
      ]
    },
    {
      "cell_type": "code",
      "execution_count": null,
      "id": "ccf5d765",
      "metadata": {
        "colab": {
          "base_uri": "https://localhost:8080/",
          "height": 472
        },
        "id": "ccf5d765",
        "outputId": "c2e454ed-fd17-405b-a7d6-6943e6889ac8"
      },
      "outputs": [
        {
          "output_type": "display_data",
          "data": {
            "text/plain": [
              "<Figure size 640x480 with 1 Axes>"
            ],
            "image/png": "[encoded data removed]"
          },
          "metadata": {}
        }
      ],
      "source": [
        "# Visualize the dataset\n",
        "sns.scatterplot(x='X', y='y', data=data)\n",
        "plt.title(\"Scatter Plot of X vs y\")\n",
        "plt.xlabel(\"X\")\n",
        "plt.ylabel(\"y\")\n",
        "plt.grid(True)\n",
        "plt.show()"
      ]
    },
    {
      "cell_type": "markdown",
      "id": "e83c6721",
      "metadata": {
        "id": "e83c6721"
      },
      "source": [
        "## Manual Linear Regression (from Scratch)\n"
      ]
    },
    {
      "cell_type": "markdown",
      "source": [
        "\n",
        "We use the **closed-form solution** of OLS to estimate parameters:\n",
        "\n",
        "$$\n",
        "w = \\frac{\\sum (x_i - \\bar{x})(y_i - \\bar{y})}{\\sum (x_i - \\bar{x})^2}\n",
        "$$\n",
        "\n",
        "$$\n",
        "b = \\bar{y} - w \\bar{x}\n",
        "$$\n",
        "\n"
      ],
      "metadata": {
        "id": "ErZ9--7eSE2a"
      },
      "id": "ErZ9--7eSE2a"
    },
    {
      "cell_type": "code",
      "execution_count": null,
      "id": "771281e8",
      "metadata": {
        "colab": {
          "base_uri": "https://localhost:8080/"
        },
        "id": "771281e8",
        "outputId": "05293d18-adfc-4348-cd4c-d423f3b07ad7"
      },
      "outputs": [
        {
          "output_type": "stream",
          "name": "stdout",
          "text": [
            "Estimated Weight (w): 2.7701\n",
            "Estimated Bias (b): 4.2151\n"
          ]
        }
      ],
      "source": [
        "# Manual calculation of weight and bias\n",
        "x_mean = X.mean()\n",
        "y_mean = y.mean()\n",
        "\n",
        "numerator = np.sum((X - x_mean) * (y - y_mean))\n",
        "denominator = np.sum((X - x_mean)**2)\n",
        "\n",
        "w = numerator / denominator\n",
        "b = y_mean - w * x_mean\n",
        "\n",
        "print(f\"Estimated Weight (w): {w:.4f}\")\n",
        "print(f\"Estimated Bias (b): {b:.4f}\")"
      ]
    },
    {
      "cell_type": "code",
      "execution_count": null,
      "id": "04d026d6",
      "metadata": {
        "id": "04d026d6"
      },
      "outputs": [],
      "source": [
        "# Predict manually\n",
        "y_pred_manual = w * X + b"
      ]
    },
    {
      "cell_type": "code",
      "source": [
        "#Plot\n",
        "plt.scatter(X, y, label=\"Actual\")\n",
        "plt.plot(X, y_pred_manual, color='red', label=\"Manual Prediction\")\n",
        "plt.title(\"Manual Linear Regression: y = wx + b\")\n",
        "plt.xlabel(\"x\")\n",
        "plt.ylabel(\"y\")\n",
        "plt.legend()\n",
        "plt.grid(True)\n",
        "plt.show()"
      ],
      "metadata": {
        "colab": {
          "base_uri": "https://localhost:8080/",
          "height": 472
        },
        "id": "BbP351yFOuAC",
        "outputId": "d00ad4c0-aa56-4884-aa7c-f4147a0ad631"
      },
      "id": "BbP351yFOuAC",
      "execution_count": null,
      "outputs": [
        {
          "output_type": "display_data",
          "data": {
            "text/plain": [
              "<Figure size 640x480 with 1 Axes>"
            ],
            "image/png": "[encoded data removed]"
          },
          "metadata": {}
        }
      ]
    },
    {
      "cell_type": "markdown",
      "id": "6be3784b",
      "metadata": {
        "id": "6be3784b"
      },
      "source": [
        "\n",
        "## Linear Regression using Scikit-Learn\n"
      ]
    },
    {
      "cell_type": "markdown",
      "source": [
        "\n",
        "Now let's fit the same data using `LinearRegression` from `sklearn`.\n"
      ],
      "metadata": {
        "id": "ZOb_O4OsSHI_"
      },
      "id": "ZOb_O4OsSHI_"
    },
    {
      "cell_type": "code",
      "source": [
        "# Fit model\n",
        "model = LinearRegression()\n",
        "model.fit(X, y)\n",
        "\n",
        "print(f\"Sklearn Weight (w): {model.coef_[0][0]:.4f}\")\n",
        "print(f\"Sklearn Bias (b): {model.intercept_[0]:.4f}\")\n",
        "\n",
        "# Predict\n",
        "y_pred_sklearn = model.predict(X)"
      ],
      "metadata": {
        "id": "I3FQ7yRhU-Ar"
      },
      "id": "I3FQ7yRhU-Ar",
      "execution_count": null,
      "outputs": []
    },
    {
      "cell_type": "code",
      "execution_count": null,
      "id": "edf77c37",
      "metadata": {
        "colab": {
          "base_uri": "https://localhost:8080/",
          "height": 472
        },
        "id": "edf77c37",
        "outputId": "847906f2-5abd-4341-beab-d415cf90bb3e"
      },
      "outputs": [
        {
          "output_type": "display_data",
          "data": {
            "text/plain": [
              "<Figure size 640x480 with 1 Axes>"
            ],
            "image/png": "[encoded data removed]"
          },
          "metadata": {}
        }
      ],
      "source": [
        "# Plot\n",
        "plt.scatter(X, y, label=\"Actual Data\")\n",
        "plt.plot(X, y_pred_sklearn, color='green', label=\"Sklearn Prediction Line\")\n",
        "plt.title(\"Linear Regression - Sklearn\")\n",
        "plt.xlabel(\"X\")\n",
        "plt.ylabel(\"y\")\n",
        "plt.legend()\n",
        "plt.grid(True)\n",
        "plt.show()"
      ]
    },
    {
      "cell_type": "markdown",
      "id": "29b8213d",
      "metadata": {
        "id": "29b8213d"
      },
      "source": [
        "### Evaluation Metrics\n",
        "\n",
        "We evaluate the model using:\n",
        "\n",
        "- Mean Squared Error (MSE)\n"
      ]
    },
    {
      "cell_type": "code",
      "execution_count": null,
      "id": "f696cbfa",
      "metadata": {
        "colab": {
          "base_uri": "https://localhost:8080/"
        },
        "id": "f696cbfa",
        "outputId": "76c97911-a848-40cc-ca6a-784b82429338"
      },
      "outputs": [
        {
          "output_type": "stream",
          "name": "stdout",
          "text": [
            "Mean Squared Error: 82.6811\n"
          ]
        }
      ],
      "source": [
        "mse = mean_squared_error(y, y_pred_sklearn)\n",
        "\n",
        "print(f\"Mean Squared Error: {mse:.4f}\")"
      ]
    },
    {
      "cell_type": "markdown",
      "source": [
        "# Multiple Linear Regression\n"
      ],
      "metadata": {
        "id": "iWftmX5fSVun"
      },
      "id": "iWftmX5fSVun"
    },
    {
      "cell_type": "markdown",
      "source": [
        "\n",
        "When we have **more than one input feature** (e.g., $ x_1, x_2 $), the Linear Regression model becomes:\n",
        "\n",
        "$$\n",
        "y = w_1 x_1 + w_2 x_2 + \\dots + w_n x_n + b\n",
        "$$\n",
        "\n",
        "In matrix form:\n",
        "\n",
        "$$\n",
        "\\mathbf{y} = \\mathbf{X} \\cdot \\mathbf{w} + b\n",
        "$$\n",
        "\n",
        "We can estimate parameters either:\n",
        "- **Manually** using vectorized OLS\n",
        "- **Using `sklearn`**\n"
      ],
      "metadata": {
        "id": "R7hBr3exSc2t"
      },
      "id": "R7hBr3exSc2t"
    },
    {
      "cell_type": "markdown",
      "source": [
        "### Generate Synthetic Data with Two Features\n",
        "\n",
        "We'll create two input features:\n",
        "- $ x_1 \\sim U(0, 2) $\n",
        "- $ x_2 \\sim U(0, 3) $\n",
        "\n",
        "And use the true underlying function:\n",
        "\n",
        "$$\n",
        "y = 3x_1 + 5x_2 + 4 + \\text{noise}\n",
        "$$\n",
        "\n",
        "This will help us test if our model can correctly recover the coefficients.\n"
      ],
      "metadata": {
        "id": "9quYx2vATTMq"
      },
      "id": "9quYx2vATTMq"
    },
    {
      "cell_type": "code",
      "source": [
        "# Create multiple features (x1, x2) and output y\n",
        "np.random.seed(0)\n",
        "x1 = 2 * np.random.rand(100, 1)\n",
        "x2 = 3 * np.random.rand(100, 1)\n",
        "b_true = 4\n",
        "w1_true = 3\n",
        "w2_true = 5"
      ],
      "metadata": {
        "id": "PoSm5itbPQBJ"
      },
      "id": "PoSm5itbPQBJ",
      "execution_count": null,
      "outputs": []
    },
    {
      "cell_type": "code",
      "source": [
        "# y = w1*x1 + w2*x2 + b + noise\n",
        "y = w1_true * x1 + w2_true * x2 + b_true + np.random.randn(100, 1)"
      ],
      "metadata": {
        "id": "vLkbn8_WSj-y"
      },
      "id": "vLkbn8_WSj-y",
      "execution_count": null,
      "outputs": []
    },
    {
      "cell_type": "code",
      "source": [
        "# Combine features into single array\n",
        "X_multi = np.hstack([x1, x2])\n",
        "df_multi = pd.DataFrame({'x1': x1.flatten(), 'x2': x2.flatten(), 'y': y.flatten()})\n",
        "df_multi"
      ],
      "metadata": {
        "colab": {
          "base_uri": "https://localhost:8080/",
          "height": 424
        },
        "id": "3tYi_kwFSkwi",
        "outputId": "dfcce046-f2c7-476c-dc0a-e63d87532e81"
      },
      "id": "3tYi_kwFSkwi",
      "execution_count": null,
      "outputs": [
        {
          "output_type": "execute_result",
          "data": {
            "text/plain": [
              "          x1        x2          y\n",
              "0   1.097627  2.033450  18.586765\n",
              "1   1.430379  0.810024  11.261324\n",
              "2   1.205527  2.205582  17.497022\n",
              "3   1.089766  2.886566  21.264307\n",
              "4   0.847310  0.746259   9.775193\n",
              "..       ...       ...        ...\n",
              "95  0.366383  1.471376  11.880242\n",
              "96  1.173026  0.682244  11.072250\n",
              "97  0.040215  0.763069   7.616664\n",
              "98  1.657880  0.174087  10.535616\n",
              "99  0.009391  1.303250  11.239171\n",
              "\n",
              "[100 rows x 3 columns]"
            ],
            "text/html": [
              "\n",
              "  <div id=\"df-fb39af27-8743-4152-9b49-96f5224d5901\" class=\"colab-df-container\">\n",
              "    <div>\n",
              "<style scoped>\n",
              "    .dataframe tbody tr th:only-of-type {\n",
              "        vertical-align: middle;\n",
              "    }\n",
              "\n",
              "    .dataframe tbody tr th {\n",
              "        vertical-align: top;\n",
              "    }\n",
              "\n",
              "    .dataframe thead th {\n",
              "        text-align: right;\n",
              "    }\n",
              "</style>\n",
              "<table border=\"1\" class=\"dataframe\">\n",
              "  <thead>\n",
              "    <tr style=\"text-align: right;\">\n",
              "      <th></th>\n",
              "      <th>x1</th>\n",
              "      <th>x2</th>\n",
              "      <th>y</th>\n",
              "    </tr>\n",
              "  </thead>\n",
              "  <tbody>\n",
              "    <tr>\n",
              "      <th>0</th>\n",
              "      <td>1.097627</td>\n",
              "      <td>2.033450</td>\n",
              "      <td>18.586765</td>\n",
              "    </tr>\n",
              "    <tr>\n",
              "      <th>1</th>\n",
              "      <td>1.430379</td>\n",
              "      <td>0.810024</td>\n",
              "      <td>11.261324</td>\n",
              "    </tr>\n",
              "    <tr>\n",
              "      <th>2</th>\n",
              "      <td>1.205527</td>\n",
              "      <td>2.205582</td>\n",
              "      <td>17.497022</td>\n",
              "    </tr>\n",
              "    <tr>\n",
              "      <th>3</th>\n",
              "      <td>1.089766</td>\n",
              "      <td>2.886566</td>\n",
              "      <td>21.264307</td>\n",
              "    </tr>\n",
              "    <tr>\n",
              "      <th>4</th>\n",
              "      <td>0.847310</td>\n",
              "      <td>0.746259</td>\n",
              "      <td>9.775193</td>\n",
              "    </tr>\n",
              "    <tr>\n",
              "      <th>...</th>\n",
              "      <td>...</td>\n",
              "      <td>...</td>\n",
              "      <td>...</td>\n",
              "    </tr>\n",
              "    <tr>\n",
              "      <th>95</th>\n",
              "      <td>0.366383</td>\n",
              "      <td>1.471376</td>\n",
              "      <td>11.880242</td>\n",
              "    </tr>\n",
              "    <tr>\n",
              "      <th>96</th>\n",
              "      <td>1.173026</td>\n",
              "      <td>0.682244</td>\n",
              "      <td>11.072250</td>\n",
              "    </tr>\n",
              "    <tr>\n",
              "      <th>97</th>\n",
              "      <td>0.040215</td>\n",
              "      <td>0.763069</td>\n",
              "      <td>7.616664</td>\n",
              "    </tr>\n",
              "    <tr>\n",
              "      <th>98</th>\n",
              "      <td>1.657880</td>\n",
              "      <td>0.174087</td>\n",
              "      <td>10.535616</td>\n",
              "    </tr>\n",
              "    <tr>\n",
              "      <th>99</th>\n",
              "      <td>0.009391</td>\n",
              "      <td>1.303250</td>\n",
              "      <td>11.239171</td>\n",
              "    </tr>\n",
              "  </tbody>\n",
              "</table>\n",
              "<p>100 rows × 3 columns</p>\n",
              "</div>\n",
              "    <div class=\"colab-df-buttons\">\n",
              "\n",
              "  <div class=\"colab-df-container\">\n",
              "    <button class=\"colab-df-convert\" onclick=\"convertToInteractive('df-fb39af27-8743-4152-9b49-96f5224d5901')\"\n",
              "            title=\"Convert this dataframe to an interactive table.\"\n",
              "            style=\"display:none;\">\n",
              "\n",
              "  <svg xmlns=\"http://www.w3.org/2000/svg\" height=\"24px\" viewBox=\"0 -960 960 960\">\n",
              "    <path d=\"M120-120v-720h720v720H120Zm60-500h600v-160H180v160Zm220 220h160v-160H400v160Zm0 220h160v-160H400v160ZM180-400h160v-160H180v160Zm440 0h160v-160H620v160ZM180-180h160v-160H180v160Zm440 0h160v-160H620v160Z\"/>\n",
              "  </svg>\n",
              "    </button>\n",
              "\n",
              "  <style>\n",
              "    .colab-df-container {\n",
              "      display:flex;\n",
              "      gap: 12px;\n",
              "    }\n",
              "\n",
              "    .colab-df-convert {\n",
              "      background-color: #E8F0FE;\n",
              "      border: none;\n",
              "      border-radius: 50%;\n",
              "      cursor: pointer;\n",
              "      display: none;\n",
              "      fill: #1967D2;\n",
              "      height: 32px;\n",
              "      padding: 0 0 0 0;\n",
              "      width: 32px;\n",
              "    }\n",
              "\n",
              "    .colab-df-convert:hover {\n",
              "      background-color: #E2EBFA;\n",
              "      box-shadow: 0px 1px 2px rgba(60, 64, 67, 0.3), 0px 1px 3px 1px rgba(60, 64, 67, 0.15);\n",
              "      fill: #174EA6;\n",
              "    }\n",
              "\n",
              "    .colab-df-buttons div {\n",
              "      margin-bottom: 4px;\n",
              "    }\n",
              "\n",
              "    [theme=dark] .colab-df-convert {\n",
              "      background-color: #3B4455;\n",
              "      fill: #D2E3FC;\n",
              "    }\n",
              "\n",
              "    [theme=dark] .colab-df-convert:hover {\n",
              "      background-color: #434B5C;\n",
              "      box-shadow: 0px 1px 3px 1px rgba(0, 0, 0, 0.15);\n",
              "      filter: drop-shadow(0px 1px 2px rgba(0, 0, 0, 0.3));\n",
              "      fill: #FFFFFF;\n",
              "    }\n",
              "  </style>\n",
              "\n",
              "    <script>\n",
              "      const buttonEl =\n",
              "        document.querySelector('#df-fb39af27-8743-4152-9b49-96f5224d5901 button.colab-df-convert');\n",
              "      buttonEl.style.display =\n",
              "        google.colab.kernel.accessAllowed ? 'block' : 'none';\n",
              "\n",
              "      async function convertToInteractive(key) {\n",
              "        const element = document.querySelector('#df-fb39af27-8743-4152-9b49-96f5224d5901');\n",
              "        const dataTable =\n",
              "          await google.colab.kernel.invokeFunction('convertToInteractive',\n",
              "                                                    [key], {});\n",
              "        if (!dataTable) return;\n",
              "\n",
              "        const docLinkHtml = 'Like what you see? Visit the ' +\n",
              "          '<a target=\"_blank\" href=https://colab.research.google.com/notebooks/data_table.ipynb>data table notebook</a>'\n",
              "          + ' to learn more about interactive tables.';\n",
              "        element.innerHTML = '';\n",
              "        dataTable['output_type'] = 'display_data';\n",
              "        await google.colab.output.renderOutput(dataTable, element);\n",
              "        const docLink = document.createElement('div');\n",
              "        docLink.innerHTML = docLinkHtml;\n",
              "        element.appendChild(docLink);\n",
              "      }\n",
              "    </script>\n",
              "  </div>\n",
              "\n",
              "\n",
              "    <div id=\"df-85ca87fe-3a40-462e-96fd-ce8d72de6855\">\n",
              "      <button class=\"colab-df-quickchart\" onclick=\"quickchart('df-85ca87fe-3a40-462e-96fd-ce8d72de6855')\"\n",
              "                title=\"Suggest charts\"\n",
              "                style=\"display:none;\">\n",
              "\n",
              "<svg xmlns=\"http://www.w3.org/2000/svg\" height=\"24px\"viewBox=\"0 0 24 24\"\n",
              "     width=\"24px\">\n",
              "    <g>\n",
              "        <path d=\"M19 3H5c-1.1 0-2 .9-2 2v14c0 1.1.9 2 2 2h14c1.1 0 2-.9 2-2V5c0-1.1-.9-2-2-2zM9 17H7v-7h2v7zm4 0h-2V7h2v10zm4 0h-2v-4h2v4z\"/>\n",
              "    </g>\n",
              "</svg>\n",
              "      </button>\n",
              "\n",
              "<style>\n",
              "  .colab-df-quickchart {\n",
              "      --bg-color: #E8F0FE;\n",
              "      --fill-color: #1967D2;\n",
              "      --hover-bg-color: #E2EBFA;\n",
              "      --hover-fill-color: #174EA6;\n",
              "      --disabled-fill-color: #AAA;\n",
              "      --disabled-bg-color: #DDD;\n",
              "  }\n",
              "\n",
              "  [theme=dark] .colab-df-quickchart {\n",
              "      --bg-color: #3B4455;\n",
              "      --fill-color: #D2E3FC;\n",
              "      --hover-bg-color: #434B5C;\n",
              "      --hover-fill-color: #FFFFFF;\n",
              "      --disabled-bg-color: #3B4455;\n",
              "      --disabled-fill-color: #666;\n",
              "  }\n",
              "\n",
              "  .colab-df-quickchart {\n",
              "    background-color: var(--bg-color);\n",
              "    border: none;\n",
              "    border-radius: 50%;\n",
              "    cursor: pointer;\n",
              "    display: none;\n",
              "    fill: var(--fill-color);\n",
              "    height: 32px;\n",
              "    padding: 0;\n",
              "    width: 32px;\n",
              "  }\n",
              "\n",
              "  .colab-df-quickchart:hover {\n",
              "    background-color: var(--hover-bg-color);\n",
              "    box-shadow: 0 1px 2px rgba(60, 64, 67, 0.3), 0 1px 3px 1px rgba(60, 64, 67, 0.15);\n",
              "    fill: var(--button-hover-fill-color);\n",
              "  }\n",
              "\n",
              "  .colab-df-quickchart-complete:disabled,\n",
              "  .colab-df-quickchart-complete:disabled:hover {\n",
              "    background-color: var(--disabled-bg-color);\n",
              "    fill: var(--disabled-fill-color);\n",
              "    box-shadow: none;\n",
              "  }\n",
              "\n",
              "  .colab-df-spinner {\n",
              "    border: 2px solid var(--fill-color);\n",
              "    border-color: transparent;\n",
              "    border-bottom-color: var(--fill-color);\n",
              "    animation:\n",
              "      spin 1s steps(1) infinite;\n",
              "  }\n",
              "\n",
              "  @keyframes spin {\n",
              "    0% {\n",
              "      border-color: transparent;\n",
              "      border-bottom-color: var(--fill-color);\n",
              "      border-left-color: var(--fill-color);\n",
              "    }\n",
              "    20% {\n",
              "      border-color: transparent;\n",
              "      border-left-color: var(--fill-color);\n",
              "      border-top-color: var(--fill-color);\n",
              "    }\n",
              "    30% {\n",
              "      border-color: transparent;\n",
              "      border-left-color: var(--fill-color);\n",
              "      border-top-color: var(--fill-color);\n",
              "      border-right-color: var(--fill-color);\n",
              "    }\n",
              "    40% {\n",
              "      border-color: transparent;\n",
              "      border-right-color: var(--fill-color);\n",
              "      border-top-color: var(--fill-color);\n",
              "    }\n",
              "    60% {\n",
              "      border-color: transparent;\n",
              "      border-right-color: var(--fill-color);\n",
              "    }\n",
              "    80% {\n",
              "      border-color: transparent;\n",
              "      border-right-color: var(--fill-color);\n",
              "      border-bottom-color: var(--fill-color);\n",
              "    }\n",
              "    90% {\n",
              "      border-color: transparent;\n",
              "      border-bottom-color: var(--fill-color);\n",
              "    }\n",
              "  }\n",
              "</style>\n",
              "\n",
              "      <script>\n",
              "        async function quickchart(key) {\n",
              "          const quickchartButtonEl =\n",
              "            document.querySelector('#' + key + ' button');\n",
              "          quickchartButtonEl.disabled = true;  // To prevent multiple clicks.\n",
              "          quickchartButtonEl.classList.add('colab-df-spinner');\n",
              "          try {\n",
              "            const charts = await google.colab.kernel.invokeFunction(\n",
              "                'suggestCharts', [key], {});\n",
              "          } catch (error) {\n",
              "            console.error('Error during call to suggestCharts:', error);\n",
              "          }\n",
              "          quickchartButtonEl.classList.remove('colab-df-spinner');\n",
              "          quickchartButtonEl.classList.add('colab-df-quickchart-complete');\n",
              "        }\n",
              "        (() => {\n",
              "          let quickchartButtonEl =\n",
              "            document.querySelector('#df-85ca87fe-3a40-462e-96fd-ce8d72de6855 button');\n",
              "          quickchartButtonEl.style.display =\n",
              "            google.colab.kernel.accessAllowed ? 'block' : 'none';\n",
              "        })();\n",
              "      </script>\n",
              "    </div>\n",
              "\n",
              "  <div id=\"id_78aee95b-8f38-4e25-b0d5-08dfab4ed523\">\n",
              "    <style>\n",
              "      .colab-df-generate {\n",
              "        background-color: #E8F0FE;\n",
              "        border: none;\n",
              "        border-radius: 50%;\n",
              "        cursor: pointer;\n",
              "        display: none;\n",
              "        fill: #1967D2;\n",
              "        height: 32px;\n",
              "        padding: 0 0 0 0;\n",
              "        width: 32px;\n",
              "      }\n",
              "\n",
              "      .colab-df-generate:hover {\n",
              "        background-color: #E2EBFA;\n",
              "        box-shadow: 0px 1px 2px rgba(60, 64, 67, 0.3), 0px 1px 3px 1px rgba(60, 64, 67, 0.15);\n",
              "        fill: #174EA6;\n",
              "      }\n",
              "\n",
              "      [theme=dark] .colab-df-generate {\n",
              "        background-color: #3B4455;\n",
              "        fill: #D2E3FC;\n",
              "      }\n",
              "\n",
              "      [theme=dark] .colab-df-generate:hover {\n",
              "        background-color: #434B5C;\n",
              "        box-shadow: 0px 1px 3px 1px rgba(0, 0, 0, 0.15);\n",
              "        filter: drop-shadow(0px 1px 2px rgba(0, 0, 0, 0.3));\n",
              "        fill: #FFFFFF;\n",
              "      }\n",
              "    </style>\n",
              "    <button class=\"colab-df-generate\" onclick=\"generateWithVariable('df_multi')\"\n",
              "            title=\"Generate code using this dataframe.\"\n",
              "            style=\"display:none;\">\n",
              "\n",
              "  <svg xmlns=\"http://www.w3.org/2000/svg\" height=\"24px\"viewBox=\"0 0 24 24\"\n",
              "       width=\"24px\">\n",
              "    <path d=\"M7,19H8.4L18.45,9,17,7.55,7,17.6ZM5,21V16.75L18.45,3.32a2,2,0,0,1,2.83,0l1.4,1.43a1.91,1.91,0,0,1,.58,1.4,1.91,1.91,0,0,1-.58,1.4L9.25,21ZM18.45,9,17,7.55Zm-12,3A5.31,5.31,0,0,0,4.9,8.1,5.31,5.31,0,0,0,1,6.5,5.31,5.31,0,0,0,4.9,4.9,5.31,5.31,0,0,0,6.5,1,5.31,5.31,0,0,0,8.1,4.9,5.31,5.31,0,0,0,12,6.5,5.46,5.46,0,0,0,6.5,12Z\"/>\n",
              "  </svg>\n",
              "    </button>\n",
              "    <script>\n",
              "      (() => {\n",
              "      const buttonEl =\n",
              "        document.querySelector('#id_78aee95b-8f38-4e25-b0d5-08dfab4ed523 button.colab-df-generate');\n",
              "      buttonEl.style.display =\n",
              "        google.colab.kernel.accessAllowed ? 'block' : 'none';\n",
              "\n",
              "      buttonEl.onclick = () => {\n",
              "        google.colab.notebook.generateWithVariable('df_multi');\n",
              "      }\n",
              "      })();\n",
              "    </script>\n",
              "  </div>\n",
              "\n",
              "    </div>\n",
              "  </div>\n"
            ],
            "application/vnd.google.colaboratory.intrinsic+json": {
              "type": "dataframe",
              "variable_name": "df_multi",
              "summary": "{\n  \"name\": \"df_multi\",\n  \"rows\": 100,\n  \"fields\": [\n    {\n      \"column\": \"x1\",\n      \"properties\": {\n        \"dtype\": \"number\",\n        \"std\": 0.579508030480583,\n        \"min\": 0.009390952385094131,\n        \"max\": 1.9767476761184524,\n        \"num_unique_values\": 100,\n        \"samples\": [\n          1.3849442387400397,\n          0.20408962149605614,\n          1.9529189300267915\n        ],\n        \"semantic_type\": \"\",\n        \"description\": \"\"\n      }\n    },\n    {\n      \"column\": \"x2\",\n      \"properties\": {\n        \"dtype\": \"number\",\n        \"std\": 0.8343089621042225,\n        \"min\": 0.035142252555005915,\n        \"max\": 2.9965410197035993,\n        \"num_unique_values\": 100,\n        \"samples\": [\n          0.7136784641235259,\n          1.8466786928515324,\n          1.563109818612388\n        ],\n        \"semantic_type\": \"\",\n        \"description\": \"\"\n      }\n    },\n    {\n      \"column\": \"y\",\n      \"properties\": {\n        \"dtype\": \"number\",\n        \"std\": 4.391236692441752,\n        \"min\": 4.504399296261391,\n        \"max\": 21.43624726211099,\n        \"num_unique_values\": 100,\n        \"samples\": [\n          12.400133071867995,\n          13.747511939102873,\n          17.830812421107687\n        ],\n        \"semantic_type\": \"\",\n        \"description\": \"\"\n      }\n    }\n  ]\n}"
            }
          },
          "metadata": {},
          "execution_count": 4
        }
      ]
    },
    {
      "cell_type": "markdown",
      "source": [
        "## Solve Using the Normal Equation (Manually OLS)\n"
      ],
      "metadata": {
        "id": "-v4zJkoCTncv"
      },
      "id": "-v4zJkoCTncv"
    },
    {
      "cell_type": "markdown",
      "source": [
        "\n",
        "We want to solve for:\n",
        "\n",
        "$$\n",
        "\\theta = \\begin{bmatrix} b \\\\\\\\ w_1 \\\\\\\\ w_2 \\end{bmatrix}\n",
        "= (X^T X)^{-1} X^T y\n",
        "$$\n",
        "\n",
        "We first add a bias column (ones) to the input matrix. This makes the math include $ b $ automatically."
      ],
      "metadata": {
        "id": "VNYICQqpXzOv"
      },
      "id": "VNYICQqpXzOv"
    },
    {
      "cell_type": "code",
      "source": [
        "# Add column of 1s for bias term\n",
        "X_b_multi = np.c_[np.ones((100, 1)), X_multi]  # Shape: (100, 3)\n",
        "\n",
        "# Normal Equation: w = (XᵀX)⁻¹ Xᵀy\n",
        "theta_multi = np.linalg.inv(X_b_multi.T.dot(X_b_multi)).dot(X_b_multi.T).dot(y)\n",
        "\n",
        "b_manual = theta_multi[0][0]\n",
        "w_manual = theta_multi[1:].flatten()\n",
        "\n",
        "print(f\"Bias (b): {b_manual:.4f}\")\n",
        "print(f\"Weights: w1 = {w_manual[0]:.4f}, w2 = {w_manual[1]:.4f}\")"
      ],
      "metadata": {
        "colab": {
          "base_uri": "https://localhost:8080/"
        },
        "id": "gbVPvTZDSnRs",
        "outputId": "7a24de56-80f3-4276-cce8-7fa915482627"
      },
      "id": "gbVPvTZDSnRs",
      "execution_count": null,
      "outputs": [
        {
          "output_type": "stream",
          "name": "stdout",
          "text": [
            "Bias (b): 4.3073\n",
            "Weights: w1 = 2.7242, w2 = 4.9137\n"
          ]
        }
      ]
    },
    {
      "cell_type": "markdown",
      "source": [
        "## Use Scikit-Learn's LinearRegression to Fit the Same Data\n"
      ],
      "metadata": {
        "id": "R-1OKa4kT_Oc"
      },
      "id": "R-1OKa4kT_Oc"
    },
    {
      "cell_type": "markdown",
      "source": [
        "\n",
        "We now use `sklearn.linear_model.LinearRegression` to fit the model and compare its learned parameters with our manual solution.\n"
      ],
      "metadata": {
        "id": "LA4Ta9caXxIR"
      },
      "id": "LA4Ta9caXxIR"
    },
    {
      "cell_type": "code",
      "source": [
        "# Fit model using sklearn\n",
        "model_multi = LinearRegression()\n",
        "model_multi.fit(X_multi, y)\n",
        "\n",
        "print(f\"Sklearn Bias (b): {model_multi.intercept_[0]:.4f}\")\n",
        "print(f\"Sklearn Weights: w1 = {model_multi.coef_[0][0]:.4f}, w2 = {model_multi.coef_[0][1]:.4f}\")"
      ],
      "metadata": {
        "colab": {
          "base_uri": "https://localhost:8080/"
        },
        "id": "x1RqKESVS7on",
        "outputId": "480c2818-e14a-4cbd-fe89-6a20e7a60ee6"
      },
      "id": "x1RqKESVS7on",
      "execution_count": null,
      "outputs": [
        {
          "output_type": "stream",
          "name": "stdout",
          "text": [
            "Sklearn Bias (b): 4.3073\n",
            "Sklearn Weights: w1 = 2.7242, w2 = 4.9137\n"
          ]
        }
      ]
    },
    {
      "cell_type": "markdown",
      "source": [
        "## Evaluate the Model\n"
      ],
      "metadata": {
        "id": "yffRTkvrUHwt"
      },
      "id": "yffRTkvrUHwt"
    },
    {
      "cell_type": "markdown",
      "source": [
        "\n",
        "We compute:\n",
        "- Mean Squared Error (MSE): measures average squared error\n",
        "\n",
        "We do this to check how well our model fits the data."
      ],
      "metadata": {
        "id": "MITYSEpHXuwP"
      },
      "id": "MITYSEpHXuwP"
    },
    {
      "cell_type": "code",
      "source": [
        "y_pred_multi = model_multi.predict(X_multi)\n",
        "\n",
        "mse_multi = mean_squared_error(y, y_pred_multi)\n",
        "\n",
        "print(f\"Mean Squared Error: {mse_multi:.4f}\")"
      ],
      "metadata": {
        "colab": {
          "base_uri": "https://localhost:8080/"
        },
        "id": "izpQpwoLS_ZJ",
        "outputId": "a98e4698-79c3-4aa7-d1ac-0a8924ce3e67"
      },
      "id": "izpQpwoLS_ZJ",
      "execution_count": null,
      "outputs": [
        {
          "output_type": "stream",
          "name": "stdout",
          "text": [
            "Mean Squared Error: 0.8316\n"
          ]
        }
      ]
    },
    {
      "cell_type": "markdown",
      "source": [
        "# Polynomial Regression\n"
      ],
      "metadata": {
        "id": "3_9UDUvwU5YG"
      },
      "id": "3_9UDUvwU5YG"
    },
    {
      "cell_type": "markdown",
      "source": [
        "\n",
        "**Polynomial Regression** is a way to model non-linear relationships using a linear model by transforming input features.\n",
        "\n",
        "We extend linear regression like this:\n",
        "\n",
        "$$\n",
        "y = w_1 x + w_2 x^2 + w_3 x^3 + \\dots + w_n x^n + b\n",
        "$$\n",
        "\n",
        "We'll start by modeling a simple quadratic relationship (degree 2)."
      ],
      "metadata": {
        "id": "3KaYZovEXrNo"
      },
      "id": "3KaYZovEXrNo"
    },
    {
      "cell_type": "markdown",
      "source": [
        "## Generate Non-Linear Data\n"
      ],
      "metadata": {
        "id": "aHKOopm3U_3s"
      },
      "id": "aHKOopm3U_3s"
    },
    {
      "cell_type": "markdown",
      "source": [
        "\n",
        "We'll generate a synthetic dataset using a quadratic equation:\n",
        "\n",
        "$$\n",
        "y = 1 + 0.5x + 1.2x^2 + \\text{noise}\n",
        "$$\n",
        "\n",
        "This will be useful to test whether polynomial regression can learn the underlying curved relationship."
      ],
      "metadata": {
        "id": "yXs1xTcAXo1E"
      },
      "id": "yXs1xTcAXo1E"
    },
    {
      "cell_type": "code",
      "source": [
        "# Generate non-linear data\n",
        "np.random.seed(0)\n",
        "X_poly = 6 * np.random.rand(100, 1) - 3\n",
        "y_poly = 1 + 0.5 * X_poly + 1.2 * X_poly**2 + np.random.randn(100, 1)"
      ],
      "metadata": {
        "id": "RUJKjR7UUYtb"
      },
      "id": "RUJKjR7UUYtb",
      "execution_count": null,
      "outputs": []
    },
    {
      "cell_type": "code",
      "source": [
        "#Plot\n",
        "plt.scatter(X_poly, y_poly)\n",
        "plt.title(\"Non-linear Dataset (Quadratic)\")\n",
        "plt.xlabel(\"x\")\n",
        "plt.ylabel(\"y\")\n",
        "plt.grid(True)\n",
        "plt.show()"
      ],
      "metadata": {
        "colab": {
          "base_uri": "https://localhost:8080/"
        },
        "id": "YAxPh2TGdUKj",
        "outputId": "86b39f53-2f0e-46e0-a824-3a855df7a9b4"
      },
      "id": "YAxPh2TGdUKj",
      "execution_count": null,
      "outputs": [
        {
          "output_type": "display_data",
          "data": {
            "text/plain": [
              "<Figure size 640x480 with 1 Axes>"
            ],
            "image/png": "[encoded data removed]"
          },
          "metadata": {}
        }
      ]
    },
    {
      "cell_type": "markdown",
      "source": [
        "## Manually Add Polynomial Features\n"
      ],
      "metadata": {
        "id": "nl-jpg8lVFLa"
      },
      "id": "nl-jpg8lVFLa"
    },
    {
      "cell_type": "markdown",
      "source": [
        "\n",
        "We now manually add a new feature $ x^2 $ to our dataset.\n",
        "\n",
        "So the model becomes:\n",
        "\n",
        "$$\n",
        "y = w_1 x + w_2 x^2 + b\n",
        "$$\n",
        "\n",
        "We'll then use the closed-form OLS solution to compute $ w_1 $, $ w_2 $, and $ b $."
      ],
      "metadata": {
        "id": "H-6ZbQB3XnDL"
      },
      "id": "H-6ZbQB3XnDL"
    },
    {
      "cell_type": "code",
      "source": [
        "# Manually add x^2 as new feature\n",
        "X_poly_manual = np.hstack((X_poly, X_poly**2))\n",
        "X_b_poly = np.c_[np.ones((100, 1)), X_poly_manual]"
      ],
      "metadata": {
        "id": "sEVqlpc4VCvi"
      },
      "id": "sEVqlpc4VCvi",
      "execution_count": null,
      "outputs": []
    },
    {
      "cell_type": "markdown",
      "source": [
        "## Closed-Form OLS Solution for Polynomial Regression\n"
      ],
      "metadata": {
        "id": "L59oc2-hWXvL"
      },
      "id": "L59oc2-hWXvL"
    },
    {
      "cell_type": "markdown",
      "source": [
        "\n",
        "Even though we're modeling a **non-linear relationship**, the key idea is that **Polynomial Regression is still linear in parameters**:\n",
        "\n",
        "$$\n",
        "y = w_1 x + w_2 x^2 + b\n",
        "$$\n",
        "\n",
        "We can rewrite this as a **linear regression problem** using transformed features:\n",
        "\n",
        "Let:\n",
        "\n",
        "- $ z_1 = x $  \n",
        "- $ z_2 = x^2 $  \n",
        "- Then:  \n",
        "  $ y = w_1 z_1 + w_2 z_2 + b $\n",
        "\n",
        "Now it becomes a regular linear regression model in terms of \\( z \\):\n",
        "\n",
        "$$\n",
        "\\mathbf{y} = \\mathbf{Z} \\cdot \\mathbf{w} + b\n",
        "$$\n",
        "\n",
        "Where:\n",
        "\n",
        "- $ \\mathbf{Z} $ is the matrix of transformed features with a column of 1s added for bias term\n",
        "- $ \\mathbf{w} $ contains $ [b, w_1, w_2] $\n",
        "\n",
        "We solve this using the **normal equation**:\n",
        "\n",
        "$$\n",
        "\\theta = (Z^T Z)^{-1} Z^T y\n",
        "$$\n",
        "\n",
        "Where $ \\theta $ is a vector containing: $ [b, w_1, w_2] $\n",
        "\n",
        "We apply this to our transformed matrix and target vector to compute parameters manually.\n"
      ],
      "metadata": {
        "id": "_XabEsrkXkqU"
      },
      "id": "_XabEsrkXkqU"
    },
    {
      "cell_type": "code",
      "source": [
        "# Closed-form solution\n",
        "theta_poly = np.linalg.inv(X_b_poly.T.dot(X_b_poly)).dot(X_b_poly.T).dot(y_poly)\n",
        "\n",
        "b_poly = theta_poly[0][0]\n",
        "w1_poly = theta_poly[1][0]\n",
        "w2_poly = theta_poly[2][0]\n",
        "\n",
        "print(f\"Bias (b): {b_poly:.4f}\")\n",
        "print(f\"Weights: w1 = {w1_poly:.4f}, w2 = {w2_poly:.4f}\")"
      ],
      "metadata": {
        "colab": {
          "base_uri": "https://localhost:8080/"
        },
        "id": "MYvap3EcWV_R",
        "outputId": "1327d999-2ecb-4e7a-a51c-15fa1f829ea0"
      },
      "id": "MYvap3EcWV_R",
      "execution_count": null,
      "outputs": [
        {
          "output_type": "stream",
          "name": "stdout",
          "text": [
            "Bias (b): 1.3405\n",
            "Weights: w1 = 0.4791, w2 = 1.1498\n"
          ]
        }
      ]
    },
    {
      "cell_type": "markdown",
      "source": [
        "## Predict and Visualize the Manual Polynomial Fit\n"
      ],
      "metadata": {
        "id": "zAxDhJiVVVYM"
      },
      "id": "zAxDhJiVVVYM"
    },
    {
      "cell_type": "markdown",
      "source": [
        "\n",
        "We now use the learned weights to make predictions on a smooth range of `x` values and visualize the fitted curve.\n",
        "\n",
        "This helps us verify whether the model captured the curvature in the data.\n"
      ],
      "metadata": {
        "id": "hon00jbJXiyc"
      },
      "id": "hon00jbJXiyc"
    },
    {
      "cell_type": "code",
      "source": [
        "# Predict using manual model\n",
        "x_plot = np.linspace(-3, 3, 100).reshape(-1, 1)\n",
        "x_plot_ext = np.hstack((x_plot, x_plot**2))\n",
        "x_plot_b = np.c_[np.ones((100, 1)), x_plot_ext]\n",
        "\n",
        "y_pred_plot = x_plot_b.dot(theta_poly)"
      ],
      "metadata": {
        "id": "-v3w9EwvVSQk"
      },
      "id": "-v3w9EwvVSQk",
      "execution_count": null,
      "outputs": []
    },
    {
      "cell_type": "code",
      "source": [
        "#Plot\n",
        "plt.scatter(X_poly, y_poly, label='Data')\n",
        "plt.plot(x_plot, y_pred_plot, color='red', label='Manual Poly Fit')\n",
        "plt.title(\"Manual Polynomial Regression\")\n",
        "plt.xlabel(\"x\")\n",
        "plt.ylabel(\"y\")\n",
        "plt.legend()\n",
        "plt.grid(True)\n",
        "plt.show()"
      ],
      "metadata": {
        "colab": {
          "base_uri": "https://localhost:8080/"
        },
        "id": "AbIHu0JAd92u",
        "outputId": "869a15ad-0068-42d1-fc3a-c2a6c49087f7"
      },
      "id": "AbIHu0JAd92u",
      "execution_count": null,
      "outputs": [
        {
          "output_type": "display_data",
          "data": {
            "text/plain": [
              "<Figure size 640x480 with 1 Axes>"
            ],
            "image/png": "[encoded data removed]"
          },
          "metadata": {}
        }
      ]
    },
    {
      "cell_type": "markdown",
      "source": [
        "## Use Scikit-Learn to Automatically Add Polynomial Features\n"
      ],
      "metadata": {
        "id": "QeTzYOg8Vhzy"
      },
      "id": "QeTzYOg8Vhzy"
    },
    {
      "cell_type": "markdown",
      "source": [
        "\n",
        "We'll now use `PolynomialFeatures` from `sklearn.preprocessing` to generate $ x $ and $ x^2 $ automatically.\n",
        "\n",
        "Then, we'll fit the model using `LinearRegression` as usual."
      ],
      "metadata": {
        "id": "QkBRYM0-XhKZ"
      },
      "id": "QkBRYM0-XhKZ"
    },
    {
      "cell_type": "code",
      "source": [
        "from sklearn.preprocessing import PolynomialFeatures\n",
        "\n",
        "# Generate polynomial features (degree 2)\n",
        "poly_feat = PolynomialFeatures(degree=2, include_bias=False)\n",
        "X_poly_sklearn = poly_feat.fit_transform(X_poly)\n",
        "\n",
        "# Fit model\n",
        "model_poly = LinearRegression()\n",
        "model_poly.fit(X_poly_sklearn, y_poly)\n",
        "\n",
        "print(f\"Bias (b): {model_poly.intercept_[0]:.4f}\")\n",
        "print(f\"Weights: {model_poly.coef_[0]}\")"
      ],
      "metadata": {
        "colab": {
          "base_uri": "https://localhost:8080/"
        },
        "id": "MCFFJk72VY_f",
        "outputId": "76ce4a87-7c3e-4041-ff45-8fbacbcd5429"
      },
      "id": "MCFFJk72VY_f",
      "execution_count": null,
      "outputs": [
        {
          "output_type": "stream",
          "name": "stdout",
          "text": [
            "Bias (b): 1.3405\n",
            "Weights: [0.47906552 1.14978823]\n"
          ]
        }
      ]
    },
    {
      "cell_type": "markdown",
      "source": [
        "## Predict and Plot Sklearn Polynomial Regression\n"
      ],
      "metadata": {
        "id": "IHT7fVBTVp2J"
      },
      "id": "IHT7fVBTVp2J"
    },
    {
      "cell_type": "markdown",
      "source": [
        "\n",
        "We now use the model from `sklearn` to predict values and plot them.\n",
        "\n",
        "This helps us visually confirm the quality of the regression.\n"
      ],
      "metadata": {
        "id": "1TzrYEOCXfp0"
      },
      "id": "1TzrYEOCXfp0"
    },
    {
      "cell_type": "code",
      "source": [
        "# Predict using sklearn model\n",
        "x_plot_poly = poly_feat.transform(x_plot)\n",
        "y_pred_sklearn_poly = model_poly.predict(x_plot_poly)\n",
        "\n",
        "plt.scatter(X_poly, y_poly, label='Data')\n",
        "plt.plot(x_plot, y_pred_sklearn_poly, color='green', label='Sklearn Poly Fit')\n",
        "plt.title(\"Polynomial Regression with Sklearn\")\n",
        "plt.xlabel(\"x\")\n",
        "plt.ylabel(\"y\")\n",
        "plt.legend()\n",
        "plt.grid(True)\n",
        "plt.show()"
      ],
      "metadata": {
        "colab": {
          "base_uri": "https://localhost:8080/"
        },
        "id": "fhL98IndVkVp",
        "outputId": "98b7e0c8-15da-4786-8853-9e12f2fb4a3d"
      },
      "id": "fhL98IndVkVp",
      "execution_count": null,
      "outputs": [
        {
          "output_type": "display_data",
          "data": {
            "text/plain": [
              "<Figure size 640x480 with 1 Axes>"
            ],
            "image/png": "[encoded data removed]"
          },
          "metadata": {}
        }
      ]
    },
    {
      "cell_type": "markdown",
      "source": [
        "## Evaluate the Polynomial Regression Models\n"
      ],
      "metadata": {
        "id": "-17MXRPEV0D8"
      },
      "id": "-17MXRPEV0D8"
    },
    {
      "cell_type": "markdown",
      "source": [
        "\n",
        "To assess how well each model fits the data, we use:\n",
        "\n",
        "- **Mean Squared Error (MSE)** — lower is better\n",
        "\n",
        "We'll evaluate both:\n",
        "- The **manual** polynomial regression\n",
        "- The **scikit-learn** polynomial regression"
      ],
      "metadata": {
        "id": "Ha4sTGq4Xd7g"
      },
      "id": "Ha4sTGq4Xd7g"
    },
    {
      "cell_type": "code",
      "source": [
        "# Predict manually on training data\n",
        "y_pred_manual_train = X_b_poly.dot(theta_poly)\n",
        "\n",
        "mse_manual = mean_squared_error(y_poly, y_pred_manual_train)\n",
        "\n",
        "print(\"Manual Polynomial Regression Evaluation\")\n",
        "print(f\"Mean Squared Error: {mse_manual:.4f}\")"
      ],
      "metadata": {
        "colab": {
          "base_uri": "https://localhost:8080/"
        },
        "id": "juYP1lHIVspt",
        "outputId": "e4f50605-d813-4748-f800-e6477a386f3f"
      },
      "id": "juYP1lHIVspt",
      "execution_count": null,
      "outputs": [
        {
          "output_type": "stream",
          "name": "stdout",
          "text": [
            "Manual Polynomial Regression Evaluation\n",
            "Mean Squared Error: 0.9736\n",
            "R² Score: 0.9119\n"
          ]
        }
      ]
    },
    {
      "cell_type": "code",
      "source": [
        "# Predict using sklearn model on training data\n",
        "y_pred_sklearn_train = model_poly.predict(X_poly_sklearn)\n",
        "\n",
        "mse_sklearn = mean_squared_error(y_poly, y_pred_sklearn_train)\n",
        "\n",
        "print(\"Sklearn Polynomial Regression Evaluation\")\n",
        "print(f\"Mean Squared Error: {mse_sklearn:.4f}\")"
      ],
      "metadata": {
        "colab": {
          "base_uri": "https://localhost:8080/"
        },
        "id": "PvIZ9UsGV9vc",
        "outputId": "a37a45a8-8783-4220-8cce-56e103e35a92"
      },
      "id": "PvIZ9UsGV9vc",
      "execution_count": null,
      "outputs": [
        {
          "output_type": "stream",
          "name": "stdout",
          "text": [
            "Sklearn Polynomial Regression Evaluation\n",
            "Mean Squared Error: 0.9736\n",
            "R² Score: 0.9119\n"
          ]
        }
      ]
    }
  ],
  "metadata": {
    "language_info": {
      "name": "python"
    },
    "colab": {
      "provenance": [],
      "collapsed_sections": [
        "532d4d5e",
        "42e579e0",
        "e83c6721",
        "6be3784b",
        "R-1OKa4kT_Oc",
        "QeTzYOg8Vhzy",
        "IHT7fVBTVp2J",
        "-17MXRPEV0D8"
      ]
    },
    "kernelspec": {
      "name": "python3",
      "display_name": "Python 3"
    }
  },
  "nbformat": 4,
  "nbformat_minor": 5
}